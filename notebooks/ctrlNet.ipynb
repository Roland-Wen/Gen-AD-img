{
 "cells": [
  {
   "cell_type": "code",
   "execution_count": 1,
   "id": "e66f82c9-5931-4406-95d7-9b17b91ca65c",
   "metadata": {},
   "outputs": [
    {
     "name": "stderr",
     "output_type": "stream",
     "text": [
      "/home/hwen/285_AD_kernel/lib/python3.11/site-packages/tqdm/auto.py:21: TqdmWarning: IProgress not found. Please update jupyter and ipywidgets. See https://ipywidgets.readthedocs.io/en/stable/user_install.html\n",
      "  from .autonotebook import tqdm as notebook_tqdm\n"
     ]
    }
   ],
   "source": [
    "from diffusers import StableDiffusionControlNetPipeline, ControlNetModel\n",
    "from diffusers import EulerAncestralDiscreteScheduler, DDIMScheduler\n",
    "from xformers.ops import MemoryEfficientAttentionFlashAttentionOp\n",
    "from PIL import Image\n",
    "import torch, glob, os, random\n",
    "import matplotlib.pyplot as plt"
   ]
  },
  {
   "cell_type": "markdown",
   "id": "fa0c24e3-569f-46f1-9e47-bd6a6e64380e",
   "metadata": {},
   "source": [
    "### Pretrained"
   ]
  },
  {
   "cell_type": "code",
   "execution_count": 2,
   "id": "713349e9-574d-4266-b58d-3fc9e580e354",
   "metadata": {},
   "outputs": [
    {
     "name": "stderr",
     "output_type": "stream",
     "text": [
      "Loading pipeline components...: 100%|██████████| 7/7 [00:03<00:00,  2.29it/s]\n"
     ]
    }
   ],
   "source": [
    "controlnet = ControlNetModel.from_pretrained(\"../models/controlnet_accident_seg/\", torch_dtype=torch.float16)\n",
    "pipe = StableDiffusionControlNetPipeline.from_pretrained(\n",
    "        \"../models/checkpoints/dreambooth_accident_v1\",\n",
    "        controlnet=controlnet,\n",
    "        torch_dtype=torch.float16).to(\"cuda\")"
   ]
  },
  {
   "cell_type": "code",
   "execution_count": 10,
   "id": "0e045cdb-0180-48af-93ba-7388cd827b51",
   "metadata": {},
   "outputs": [],
   "source": [
    "masks = sorted(glob.glob(os.path.join(\"../data/processed/accident/conditioning_image\", \"*.png\")))"
   ]
  },
  {
   "cell_type": "code",
   "execution_count": 19,
   "id": "b0823240-5dea-4f96-8ab6-3dc4c8abdbfa",
   "metadata": {},
   "outputs": [
    {
     "data": {
      "text/plain": [
       "'06'"
      ]
     },
     "execution_count": 19,
     "metadata": {},
     "output_type": "execute_result"
    }
   ],
   "source": [
    "masks[5][masks[5].rfind('/')+1:masks[5].find('.png')]"
   ]
  },
  {
   "cell_type": "code",
   "execution_count": 8,
   "id": "f10d8ac8-688f-4786-8ac0-f6018b3b6719",
   "metadata": {},
   "outputs": [],
   "source": [
    "pipe.scheduler = EulerAncestralDiscreteScheduler.from_config(pipe.scheduler.config)\n",
    "pipe.enable_xformers_memory_efficient_attention()\n",
    "#pipe.enable_vae_slicing()\n",
    "#pipe.enable_vae_tiling()\n",
    "#pipe.enable_attention_slicing()            # keep VRAM low\n",
    "pipe.safety_checker = None                 # avoid NSFW checker noise"
   ]
  },
  {
   "cell_type": "code",
   "execution_count": null,
   "id": "8f1abe29-abb6-4461-b56f-cf7d411f0b5d",
   "metadata": {},
   "outputs": [],
   "source": [
    "val_masks = glob.glob(\"../data/processed/controlnet_train/conditioning_image/*.png\")[:4]\n",
    "\n",
    "fig, axs = plt.subplots(len(val_masks), 2, figsize=(6,3*len(val_masks)))\n",
    "with torch.inference_mode():\n",
    "    for i, m_path in enumerate(val_masks):\n",
    "        mask = Image.open(m_path).convert(\"L\")          # grayscale 0–255\n",
    "    \n",
    "        img = pipe(\n",
    "            prompt    = \"a street scene with <accident>, ultra realistic, 4k\",\n",
    "            image     = mask,\n",
    "            num_inference_steps = 30,\n",
    "            guidance_scale      = 7.5,\n",
    "        ).images[0]\n",
    "    \n",
    "        axs[i,0].imshow(mask, cmap=\"gray\"); axs[i,0].set_title(\"mask\")\n",
    "        axs[i,1].imshow(img);                axs[i,1].set_title(\"generated\")\n",
    "        [ax.axis(\"off\") for ax in axs[i]]\n",
    "    plt.tight_layout(); plt.show()\n"
   ]
  },
  {
   "cell_type": "markdown",
   "id": "97110af8-c05c-4852-9b5c-445221d7403e",
   "metadata": {
    "jp-MarkdownHeadingCollapsed": true
   },
   "source": [
    "### Finetuned vs Pretrained"
   ]
  },
  {
   "cell_type": "code",
   "execution_count": 6,
   "id": "fa07999e-eb8b-41b6-be87-40af02acbfbf",
   "metadata": {},
   "outputs": [
    {
     "name": "stderr",
     "output_type": "stream",
     "text": [
      "Loading pipeline components...: 100%|██████████| 7/7 [00:01<00:00,  3.67it/s]\n"
     ]
    }
   ],
   "source": [
    "controlnet_ft = ControlNetModel.from_pretrained(\"../models/controlnet_accident_seg/\", torch_dtype=torch.float16)\n",
    "pipe_ft = StableDiffusionControlNetPipeline.from_pretrained(\n",
    "        \"../models/checkpoints/dreambooth_accident_v1\",\n",
    "        controlnet=controlnet_ft,\n",
    "        requires_safety_checker=False,\n",
    "        torch_dtype=torch.float16).to(\"cuda\")\n",
    "pipe_ft.enable_xformers_memory_efficient_attention()\n",
    "pipe_ft.enable_attention_slicing()            # keep VRAM low\n",
    "pipe_ft.safety_checker = None                 # avoid NSFW checker noise"
   ]
  },
  {
   "cell_type": "code",
   "execution_count": 8,
   "id": "b3564c5c-22fe-4990-a265-753765242534",
   "metadata": {},
   "outputs": [
    {
     "name": "stderr",
     "output_type": "stream",
     "text": [
      " 28%|██▊       | 14/50 [00:07<00:20,  1.78it/s]\n"
     ]
    },
    {
     "ename": "KeyboardInterrupt",
     "evalue": "",
     "output_type": "error",
     "traceback": [
      "\u001b[31m---------------------------------------------------------------------------\u001b[39m",
      "\u001b[31mKeyboardInterrupt\u001b[39m                         Traceback (most recent call last)",
      "\u001b[36mCell\u001b[39m\u001b[36m \u001b[39m\u001b[32mIn[8]\u001b[39m\u001b[32m, line 11\u001b[39m\n\u001b[32m      8\u001b[39m new_mask = [\u001b[32m4\u001b[39m \u001b[38;5;28;01mif\u001b[39;00m data==\u001b[32m1\u001b[39m \u001b[38;5;28;01melse\u001b[39;00m data \u001b[38;5;28;01mfor\u001b[39;00m data \u001b[38;5;129;01min\u001b[39;00m mask_data]\n\u001b[32m      9\u001b[39m mask.putdata(new_mask)\n\u001b[32m---> \u001b[39m\u001b[32m11\u001b[39m img_ft = \u001b[43mpipe_ft\u001b[49m\u001b[43m(\u001b[49m\n\u001b[32m     12\u001b[39m \u001b[43m    \u001b[49m\u001b[43mprompt\u001b[49m\u001b[43m    \u001b[49m\u001b[43m=\u001b[49m\u001b[43m \u001b[49m\u001b[33;43m\"\u001b[39;49m\u001b[33;43ma scene with <accident>, ultra realistic, 4k\u001b[39;49m\u001b[33;43m\"\u001b[39;49m\u001b[43m,\u001b[49m\n\u001b[32m     13\u001b[39m \u001b[43m    \u001b[49m\u001b[43mimage\u001b[49m\u001b[43m     \u001b[49m\u001b[43m=\u001b[49m\u001b[43m \u001b[49m\u001b[43mmask\u001b[49m\u001b[43m,\u001b[49m\n\u001b[32m     14\u001b[39m \u001b[43m    \u001b[49m\u001b[43mnum_inference_steps\u001b[49m\u001b[43m \u001b[49m\u001b[43m=\u001b[49m\u001b[43m \u001b[49m\u001b[32;43m50\u001b[39;49m\u001b[43m,\u001b[49m\n\u001b[32m     15\u001b[39m \u001b[43m    \u001b[49m\u001b[43mguidance_scale\u001b[49m\u001b[43m      \u001b[49m\u001b[43m=\u001b[49m\u001b[43m \u001b[49m\u001b[32;43m7.5\u001b[39;49m\u001b[43m,\u001b[49m\n\u001b[32m     16\u001b[39m \u001b[43m\u001b[49m\u001b[43m)\u001b[49m.images[\u001b[32m0\u001b[39m]\n\u001b[32m     18\u001b[39m img = pipe(\n\u001b[32m     19\u001b[39m     prompt    = \u001b[33m\"\u001b[39m\u001b[33ma scene with <accident>, ultra realistic, 4k\u001b[39m\u001b[33m\"\u001b[39m,\n\u001b[32m     20\u001b[39m     image     = mask,\n\u001b[32m     21\u001b[39m     num_inference_steps = \u001b[32m50\u001b[39m,\n\u001b[32m     22\u001b[39m     guidance_scale      = \u001b[32m7.5\u001b[39m,\n\u001b[32m     23\u001b[39m ).images[\u001b[32m0\u001b[39m]\n\u001b[32m     25\u001b[39m axs[i,\u001b[32m0\u001b[39m].imshow(mask, cmap=\u001b[33m\"\u001b[39m\u001b[33mgray\u001b[39m\u001b[33m\"\u001b[39m); axs[i,\u001b[32m0\u001b[39m].set_title(\u001b[33m\"\u001b[39m\u001b[33mmask\u001b[39m\u001b[33m\"\u001b[39m)\n",
      "\u001b[36mFile \u001b[39m\u001b[32m~/285_AD_kernel/lib/python3.11/site-packages/torch/utils/_contextlib.py:115\u001b[39m, in \u001b[36mcontext_decorator.<locals>.decorate_context\u001b[39m\u001b[34m(*args, **kwargs)\u001b[39m\n\u001b[32m    112\u001b[39m \u001b[38;5;129m@functools\u001b[39m.wraps(func)\n\u001b[32m    113\u001b[39m \u001b[38;5;28;01mdef\u001b[39;00m\u001b[38;5;250m \u001b[39m\u001b[34mdecorate_context\u001b[39m(*args, **kwargs):\n\u001b[32m    114\u001b[39m     \u001b[38;5;28;01mwith\u001b[39;00m ctx_factory():\n\u001b[32m--> \u001b[39m\u001b[32m115\u001b[39m         \u001b[38;5;28;01mreturn\u001b[39;00m \u001b[43mfunc\u001b[49m\u001b[43m(\u001b[49m\u001b[43m*\u001b[49m\u001b[43margs\u001b[49m\u001b[43m,\u001b[49m\u001b[43m \u001b[49m\u001b[43m*\u001b[49m\u001b[43m*\u001b[49m\u001b[43mkwargs\u001b[49m\u001b[43m)\u001b[49m\n",
      "\u001b[36mFile \u001b[39m\u001b[32m~/285_AD_kernel/lib/python3.11/site-packages/diffusers/pipelines/controlnet/pipeline_controlnet.py:1315\u001b[39m, in \u001b[36mStableDiffusionControlNetPipeline.__call__\u001b[39m\u001b[34m(self, prompt, image, height, width, num_inference_steps, timesteps, sigmas, guidance_scale, negative_prompt, num_images_per_prompt, eta, generator, latents, prompt_embeds, negative_prompt_embeds, ip_adapter_image, ip_adapter_image_embeds, output_type, return_dict, cross_attention_kwargs, controlnet_conditioning_scale, guess_mode, control_guidance_start, control_guidance_end, clip_skip, callback_on_step_end, callback_on_step_end_tensor_inputs, **kwargs)\u001b[39m\n\u001b[32m   1312\u001b[39m     noise_pred = noise_pred_uncond + \u001b[38;5;28mself\u001b[39m.guidance_scale * (noise_pred_text - noise_pred_uncond)\n\u001b[32m   1314\u001b[39m \u001b[38;5;66;03m# compute the previous noisy sample x_t -> x_t-1\u001b[39;00m\n\u001b[32m-> \u001b[39m\u001b[32m1315\u001b[39m latents = \u001b[38;5;28;43mself\u001b[39;49m\u001b[43m.\u001b[49m\u001b[43mscheduler\u001b[49m\u001b[43m.\u001b[49m\u001b[43mstep\u001b[49m\u001b[43m(\u001b[49m\u001b[43mnoise_pred\u001b[49m\u001b[43m,\u001b[49m\u001b[43m \u001b[49m\u001b[43mt\u001b[49m\u001b[43m,\u001b[49m\u001b[43m \u001b[49m\u001b[43mlatents\u001b[49m\u001b[43m,\u001b[49m\u001b[43m \u001b[49m\u001b[43m*\u001b[49m\u001b[43m*\u001b[49m\u001b[43mextra_step_kwargs\u001b[49m\u001b[43m,\u001b[49m\u001b[43m \u001b[49m\u001b[43mreturn_dict\u001b[49m\u001b[43m=\u001b[49m\u001b[38;5;28;43;01mFalse\u001b[39;49;00m\u001b[43m)\u001b[49m[\u001b[32m0\u001b[39m]\n\u001b[32m   1317\u001b[39m \u001b[38;5;28;01mif\u001b[39;00m callback_on_step_end \u001b[38;5;129;01mis\u001b[39;00m \u001b[38;5;129;01mnot\u001b[39;00m \u001b[38;5;28;01mNone\u001b[39;00m:\n\u001b[32m   1318\u001b[39m     callback_kwargs = {}\n",
      "\u001b[36mFile \u001b[39m\u001b[32m~/285_AD_kernel/lib/python3.11/site-packages/diffusers/schedulers/scheduling_pndm.py:257\u001b[39m, in \u001b[36mPNDMScheduler.step\u001b[39m\u001b[34m(self, model_output, timestep, sample, return_dict)\u001b[39m\n\u001b[32m    255\u001b[39m     \u001b[38;5;28;01mreturn\u001b[39;00m \u001b[38;5;28mself\u001b[39m.step_prk(model_output=model_output, timestep=timestep, sample=sample, return_dict=return_dict)\n\u001b[32m    256\u001b[39m \u001b[38;5;28;01melse\u001b[39;00m:\n\u001b[32m--> \u001b[39m\u001b[32m257\u001b[39m     \u001b[38;5;28;01mreturn\u001b[39;00m \u001b[38;5;28;43mself\u001b[39;49m\u001b[43m.\u001b[49m\u001b[43mstep_plms\u001b[49m\u001b[43m(\u001b[49m\u001b[43mmodel_output\u001b[49m\u001b[43m=\u001b[49m\u001b[43mmodel_output\u001b[49m\u001b[43m,\u001b[49m\u001b[43m \u001b[49m\u001b[43mtimestep\u001b[49m\u001b[43m=\u001b[49m\u001b[43mtimestep\u001b[49m\u001b[43m,\u001b[49m\u001b[43m \u001b[49m\u001b[43msample\u001b[49m\u001b[43m=\u001b[49m\u001b[43msample\u001b[49m\u001b[43m,\u001b[49m\u001b[43m \u001b[49m\u001b[43mreturn_dict\u001b[49m\u001b[43m=\u001b[49m\u001b[43mreturn_dict\u001b[49m\u001b[43m)\u001b[49m\n",
      "\u001b[36mFile \u001b[39m\u001b[32m~/285_AD_kernel/lib/python3.11/site-packages/diffusers/schedulers/scheduling_pndm.py:382\u001b[39m, in \u001b[36mPNDMScheduler.step_plms\u001b[39m\u001b[34m(self, model_output, timestep, sample, return_dict)\u001b[39m\n\u001b[32m    379\u001b[39m \u001b[38;5;28;01melse\u001b[39;00m:\n\u001b[32m    380\u001b[39m     model_output = (\u001b[32m1\u001b[39m / \u001b[32m24\u001b[39m) * (\u001b[32m55\u001b[39m * \u001b[38;5;28mself\u001b[39m.ets[-\u001b[32m1\u001b[39m] - \u001b[32m59\u001b[39m * \u001b[38;5;28mself\u001b[39m.ets[-\u001b[32m2\u001b[39m] + \u001b[32m37\u001b[39m * \u001b[38;5;28mself\u001b[39m.ets[-\u001b[32m3\u001b[39m] - \u001b[32m9\u001b[39m * \u001b[38;5;28mself\u001b[39m.ets[-\u001b[32m4\u001b[39m])\n\u001b[32m--> \u001b[39m\u001b[32m382\u001b[39m prev_sample = \u001b[38;5;28;43mself\u001b[39;49m\u001b[43m.\u001b[49m\u001b[43m_get_prev_sample\u001b[49m\u001b[43m(\u001b[49m\u001b[43msample\u001b[49m\u001b[43m,\u001b[49m\u001b[43m \u001b[49m\u001b[43mtimestep\u001b[49m\u001b[43m,\u001b[49m\u001b[43m \u001b[49m\u001b[43mprev_timestep\u001b[49m\u001b[43m,\u001b[49m\u001b[43m \u001b[49m\u001b[43mmodel_output\u001b[49m\u001b[43m)\u001b[49m\n\u001b[32m    383\u001b[39m \u001b[38;5;28mself\u001b[39m.counter += \u001b[32m1\u001b[39m\n\u001b[32m    385\u001b[39m \u001b[38;5;28;01mif\u001b[39;00m \u001b[38;5;129;01mnot\u001b[39;00m return_dict:\n",
      "\u001b[36mFile \u001b[39m\u001b[32m~/285_AD_kernel/lib/python3.11/site-packages/diffusers/schedulers/scheduling_pndm.py:420\u001b[39m, in \u001b[36mPNDMScheduler._get_prev_sample\u001b[39m\u001b[34m(self, sample, timestep, prev_timestep, model_output)\u001b[39m\n\u001b[32m    418\u001b[39m alpha_prod_t = \u001b[38;5;28mself\u001b[39m.alphas_cumprod[timestep]\n\u001b[32m    419\u001b[39m alpha_prod_t_prev = \u001b[38;5;28mself\u001b[39m.alphas_cumprod[prev_timestep] \u001b[38;5;28;01mif\u001b[39;00m prev_timestep >= \u001b[32m0\u001b[39m \u001b[38;5;28;01melse\u001b[39;00m \u001b[38;5;28mself\u001b[39m.final_alpha_cumprod\n\u001b[32m--> \u001b[39m\u001b[32m420\u001b[39m beta_prod_t = \u001b[32;43m1\u001b[39;49m\u001b[43m \u001b[49m\u001b[43m-\u001b[49m\u001b[43m \u001b[49m\u001b[43malpha_prod_t\u001b[49m\n\u001b[32m    421\u001b[39m beta_prod_t_prev = \u001b[32m1\u001b[39m - alpha_prod_t_prev\n\u001b[32m    423\u001b[39m \u001b[38;5;28;01mif\u001b[39;00m \u001b[38;5;28mself\u001b[39m.config.prediction_type == \u001b[33m\"\u001b[39m\u001b[33mv_prediction\u001b[39m\u001b[33m\"\u001b[39m:\n",
      "\u001b[36mFile \u001b[39m\u001b[32m~/285_AD_kernel/lib/python3.11/site-packages/torch/_tensor.py:34\u001b[39m, in \u001b[36m_handle_torch_function_and_wrap_type_error_to_not_implemented.<locals>.wrapped\u001b[39m\u001b[34m(*args, **kwargs)\u001b[39m\n\u001b[32m     31\u001b[39m \u001b[38;5;28;01mdef\u001b[39;00m\u001b[38;5;250m \u001b[39m\u001b[34m_handle_torch_function_and_wrap_type_error_to_not_implemented\u001b[39m(f):\n\u001b[32m     32\u001b[39m     assigned = functools.WRAPPER_ASSIGNMENTS\n\u001b[32m---> \u001b[39m\u001b[32m34\u001b[39m     \u001b[38;5;129m@functools\u001b[39m.wraps(f, assigned=assigned)\n\u001b[32m     35\u001b[39m     \u001b[38;5;28;01mdef\u001b[39;00m\u001b[38;5;250m \u001b[39m\u001b[34mwrapped\u001b[39m(*args, **kwargs):\n\u001b[32m     36\u001b[39m         \u001b[38;5;28;01mtry\u001b[39;00m:\n\u001b[32m     37\u001b[39m             \u001b[38;5;66;03m# See https://github.com/pytorch/pytorch/issues/75462\u001b[39;00m\n\u001b[32m     38\u001b[39m             \u001b[38;5;28;01mif\u001b[39;00m has_torch_function(args):\n",
      "\u001b[31mKeyboardInterrupt\u001b[39m: "
     ]
    },
    {
     "data": {
      "image/png": "[encoded data removed]",
      "text/plain": [
       "<Figure size 600x1200 with 12 Axes>"
      ]
     },
     "metadata": {},
     "output_type": "display_data"
    }
   ],
   "source": [
    "val_masks = glob.glob(\"../data/processed/controlnet_train/conditioning_image/*.png\")[:4]\n",
    "\n",
    "fig, axs = plt.subplots(len(val_masks), 3, figsize=(6,3*len(val_masks)))\n",
    "for i, m_path in enumerate(val_masks):\n",
    "    mask = Image.open(m_path).convert(\"L\")          # grayscale 0–255\n",
    "    # convert car to crashed car\n",
    "    mask_data = list(mask.getdata())\n",
    "    new_mask = [4 if data==1 else data for data in mask_data]\n",
    "    mask.putdata(new_mask)\n",
    "\n",
    "    img_ft = pipe_ft(\n",
    "        prompt    = \"a scene with <accident>, ultra realistic, 4k\",\n",
    "        image     = mask,\n",
    "        num_inference_steps = 50,\n",
    "        guidance_scale      = 7.5,\n",
    "    ).images[0]\n",
    "\n",
    "    img = pipe(\n",
    "        prompt    = \"a scene with <accident>, ultra realistic, 4k\",\n",
    "        image     = mask,\n",
    "        num_inference_steps = 50,\n",
    "        guidance_scale      = 7.5,\n",
    "    ).images[0]\n",
    "\n",
    "    axs[i,0].imshow(mask, cmap=\"gray\"); axs[i,0].set_title(\"mask\")\n",
    "    axs[i,1].imshow(img);               axs[i,1].set_title(\"pretrain generated\")\n",
    "    axs[i,2].imshow(img_ft);            axs[i,2].set_title(\"ft generated\")\n",
    "    [ax.axis(\"off\") for ax in axs[i]]\n",
    "plt.tight_layout(); plt.show()\n"
   ]
  },
  {
   "cell_type": "markdown",
   "id": "3c67ae87-e27e-4276-aa41-8e828d73b084",
   "metadata": {},
   "source": [
    "### Visual spot-check"
   ]
  },
  {
   "cell_type": "code",
   "execution_count": 9,
   "id": "4f88d2e3-323c-4e9d-a17a-cd745bbacb65",
   "metadata": {},
   "outputs": [
    {
     "name": "stderr",
     "output_type": "stream",
     "text": [
      "100%|██████████| 30/30 [00:38<00:00,  1.30s/it]\n",
      "/usr/bin/xdg-open: 882: www-browser: not found\n",
      "/usr/bin/xdg-open: 882: links2: not found\n",
      "/usr/bin/xdg-open: 882: elinks: not found\n",
      "/usr/bin/xdg-open: 882: links: not found\n",
      "/usr/bin/xdg-open: 882: lynx: not found\n",
      "/usr/bin/xdg-open: 882: w3m: not found\n",
      "xdg-open: no method available for opening '/tmp/tmpb5_qflc1.PNG'\n"
     ]
    }
   ],
   "source": [
    "paths = random.sample(glob.glob(\"../data/processed/accident/conditioning_image/*.png\"), 4)\n",
    "imgs  = [Image.open(p).convert(\"L\").resize((512,512)) for p in paths]\n",
    "prompt = [\"dash-cam view of urban traffic, 8k, photorealistic <accident>\"] * 4\n",
    "outs = pipe(prompt, image=imgs, num_inference_steps=30,\n",
    "            guidance_scale=7.5).images\n",
    "grid = Image.new(\"RGB\",(4*512,2*512))\n",
    "for i,(m,o) in enumerate(zip(imgs,outs)):\n",
    "    grid.paste(Image.merge(\"RGB\",(m,m,m)),(i*512,0))\n",
    "    grid.paste(o,(i*512,512))\n",
    "grid.show()"
   ]
  },
  {
   "cell_type": "markdown",
   "id": "81849c76-b80f-4ab0-bbef-1a32f203d2c2",
   "metadata": {},
   "source": [
    "### Confirm damaged-car transfer"
   ]
  },
  {
   "cell_type": "code",
   "execution_count": null,
   "id": "6dca848e-df94-4548-9cad-22a27679cea2",
   "metadata": {},
   "outputs": [],
   "source": [
    "val_masks = glob.glob(\"../data/processed/controlnet_train/conditioning_image/*.png\")[:4]\n",
    "\n",
    "fig, axs = plt.subplots(len(val_masks), 3, figsize=(6,3*len(val_masks)))\n",
    "for i, m_path in enumerate(val_masks):\n",
    "    # test normal mask, no crash\n",
    "    mask = Image.open(m_path).convert(\"L\")\n",
    "    img = pipe(\n",
    "        prompt    = \"dash-cam view of urban traffic, 8k, photorealistic <accident>\",\n",
    "        image     = mask,\n",
    "        num_inference_steps = 50,\n",
    "        guidance_scale      = 7.5,\n",
    "    ).images[0]\n",
    "\n",
    "    # convert car to crashed car\n",
    "    mask_data = list(mask.getdata())\n",
    "    crash_mask = [4 if data==1 else data for data in mask_data]\n",
    "    print(mask_data.count(1))\n",
    "    mask.putdata(crash_mask)\n",
    "    img_crash = pipe(\n",
    "        prompt    = \"dash-cam view of urban traffic, 8k, photorealistic <accident>\",\n",
    "        image     = mask,\n",
    "        num_inference_steps = 50,\n",
    "        guidance_scale      = 7.5,\n",
    "    ).images[0]\n",
    "\n",
    "    axs[i,0].imshow(mask, cmap=\"gray\"); axs[i,0].set_title(\"mask\")\n",
    "    axs[i,1].imshow(img);               axs[i,1].set_title(\"no crash\")\n",
    "    axs[i,2].imshow(img_crash);         axs[i,2].set_title(\"crash\")\n",
    "    [ax.axis(\"off\") for ax in axs[i]]\n",
    "plt.tight_layout(); plt.show()"
   ]
  },
  {
   "cell_type": "code",
   "execution_count": null,
   "id": "0cda71e5-f620-4832-988d-4c9bc69f77e8",
   "metadata": {},
   "outputs": [],
   "source": []
  }
 ],
 "metadata": {
  "kernelspec": {
   "display_name": "285_AD_kernel",
   "language": "python",
   "name": "285_ad_kernel"
  },
  "language_info": {
   "codemirror_mode": {
    "name": "ipython",
    "version": 3
   },
   "file_extension": ".py",
   "mimetype": "text/x-python",
   "name": "python",
   "nbconvert_exporter": "python",
   "pygments_lexer": "ipython3",
   "version": "3.11.9"
  }
 },
 "nbformat": 4,
 "nbformat_minor": 5
}
